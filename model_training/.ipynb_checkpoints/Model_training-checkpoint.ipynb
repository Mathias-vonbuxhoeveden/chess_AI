{
 "cells": [
  {
   "cell_type": "code",
   "execution_count": 16,
   "id": "71873227",
   "metadata": {},
   "outputs": [],
   "source": [
    "import numpy as np\n",
    "from keras.models import Sequential\n",
    "from keras.layers import Dense, Conv2D, Flatten\n",
    "import pickle"
   ]
  },
  {
   "cell_type": "code",
   "execution_count": 9,
   "id": "72bef238",
   "metadata": {},
   "outputs": [],
   "source": [
    "#Load data"
   ]
  },
  {
   "cell_type": "code",
   "execution_count": 10,
   "id": "e5d32965",
   "metadata": {},
   "outputs": [],
   "source": [
    "data = np.load(\"data/dataset.npz\")"
   ]
  },
  {
   "cell_type": "code",
   "execution_count": 11,
   "id": "f8c364e0",
   "metadata": {},
   "outputs": [],
   "source": [
    "#Train piece-selector network!"
   ]
  },
  {
   "cell_type": "code",
   "execution_count": 12,
   "id": "0ad0c065",
   "metadata": {},
   "outputs": [],
   "source": [
    "X = data['arr_0']\n",
    "y = data['arr_1']"
   ]
  },
  {
   "cell_type": "code",
   "execution_count": 13,
   "id": "aba67de0",
   "metadata": {},
   "outputs": [],
   "source": [
    "img_rows, img_cols = 8, 8\n",
    "input_shape = (img_rows, img_cols, 6)\n",
    "\n",
    "model = Sequential()\n",
    "model.add(Conv2D(128, kernel_size=(2, 2), activation='relu',input_shape=input_shape))\n",
    "model.add(Conv2D(128, kernel_size=(2,2), activation='relu'))\n",
    "model.add(Flatten())\n",
    "\n",
    "model.add(Dense(1024, activation='relu'))\n",
    "\n",
    "model.add(Dense(1024, activation='relu'))\n",
    "\n",
    "model.add(Dense(64, activation='softmax'))\n",
    "\n",
    "model.compile(loss='categorical_crossentropy',\n",
    "               optimizer='adam',\n",
    "               metrics=['accuracy'])"
   ]
  },
  {
   "cell_type": "code",
   "execution_count": 15,
   "id": "48804b42",
   "metadata": {},
   "outputs": [
    {
     "name": "stdout",
     "output_type": "stream",
     "text": [
      "Epoch 1/3\n",
      "2741/2741 [==============================] - 147s 54ms/step - loss: 1.0545 - accuracy: 0.6174 - val_loss: 1.6908 - val_accuracy: 0.4483\n",
      "Epoch 2/3\n",
      "2741/2741 [==============================] - 144s 53ms/step - loss: 0.8262 - accuracy: 0.6988 - val_loss: 1.9282 - val_accuracy: 0.4427\n",
      "Epoch 3/3\n",
      "2741/2741 [==============================] - 154s 56ms/step - loss: 0.6246 - accuracy: 0.7746 - val_loss: 2.3288 - val_accuracy: 0.4327\n"
     ]
    },
    {
     "data": {
      "text/plain": [
       "<keras.callbacks.History at 0x7fcde1cf36a0>"
      ]
     },
     "execution_count": 15,
     "metadata": {},
     "output_type": "execute_result"
    }
   ],
   "source": [
    "model.fit(X, y, validation_split = 0.2, batch_size=128, epochs=3)"
   ]
  },
  {
   "cell_type": "code",
   "execution_count": 25,
   "id": "77c2bba6",
   "metadata": {},
   "outputs": [
    {
     "name": "stderr",
     "output_type": "stream",
     "text": [
      "2022-07-12 20:55:36.454095: W tensorflow/python/util/util.cc:348] Sets are not currently considered sequences, but this may change in the future, so consider avoiding using them.\n"
     ]
    },
    {
     "name": "stdout",
     "output_type": "stream",
     "text": [
      "INFO:tensorflow:Assets written to: piece_selector_network/assets\n"
     ]
    }
   ],
   "source": [
    "model.save(\"piece_selector_network\")"
   ]
  },
  {
   "cell_type": "code",
   "execution_count": null,
   "id": "b08db4bf",
   "metadata": {},
   "outputs": [],
   "source": [
    "#Train move-to network!"
   ]
  },
  {
   "cell_type": "code",
   "execution_count": 27,
   "id": "75a05fee",
   "metadata": {},
   "outputs": [],
   "source": [
    "X = data['arr_0']\n",
    "y = data['arr_2']"
   ]
  },
  {
   "cell_type": "code",
   "execution_count": 28,
   "id": "c67f1188",
   "metadata": {},
   "outputs": [],
   "source": [
    "img_rows, img_cols = 8, 8\n",
    "input_shape = (img_rows, img_cols, 6)\n",
    "\n",
    "model = Sequential()\n",
    "model.add(Conv2D(128, kernel_size=(2, 2), activation='relu',input_shape=input_shape))\n",
    "model.add(Conv2D(128, kernel_size=(2,2), activation='relu'))\n",
    "model.add(Flatten())\n",
    "\n",
    "model.add(Dense(1024, activation='relu'))\n",
    "\n",
    "model.add(Dense(1024, activation='relu'))\n",
    "\n",
    "model.add(Dense(64, activation='softmax'))\n",
    "\n",
    "model.compile(loss='categorical_crossentropy',\n",
    "               optimizer='adam',\n",
    "               metrics=['accuracy'])"
   ]
  },
  {
   "cell_type": "code",
   "execution_count": 29,
   "id": "1cc9d0c7",
   "metadata": {},
   "outputs": [
    {
     "name": "stdout",
     "output_type": "stream",
     "text": [
      "Epoch 1/3\n",
      "2741/2741 [==============================] - 163s 59ms/step - loss: 2.7504 - accuracy: 0.2707 - val_loss: 2.5052 - val_accuracy: 0.3080\n",
      "Epoch 2/3\n",
      "2741/2741 [==============================] - 163s 59ms/step - loss: 2.2554 - accuracy: 0.3613 - val_loss: 2.4119 - val_accuracy: 0.3253\n",
      "Epoch 3/3\n",
      "2741/2741 [==============================] - 161s 59ms/step - loss: 1.9255 - accuracy: 0.4337 - val_loss: 2.4863 - val_accuracy: 0.3240\n"
     ]
    },
    {
     "data": {
      "text/plain": [
       "<keras.callbacks.History at 0x7fcdc07a2e20>"
      ]
     },
     "execution_count": 29,
     "metadata": {},
     "output_type": "execute_result"
    }
   ],
   "source": [
    "model.fit(X, y, validation_split = 0.2, batch_size=128, epochs=3)"
   ]
  },
  {
   "cell_type": "code",
   "execution_count": 30,
   "id": "d4598ed3",
   "metadata": {},
   "outputs": [
    {
     "name": "stdout",
     "output_type": "stream",
     "text": [
      "INFO:tensorflow:Assets written to: move_to_network/assets\n"
     ]
    }
   ],
   "source": [
    "model.save(\"move_to_network\")"
   ]
  }
 ],
 "metadata": {
  "kernelspec": {
   "display_name": "venv",
   "language": "python",
   "name": "venv"
  },
  "language_info": {
   "codemirror_mode": {
    "name": "ipython",
    "version": 3
   },
   "file_extension": ".py",
   "mimetype": "text/x-python",
   "name": "python",
   "nbconvert_exporter": "python",
   "pygments_lexer": "ipython3",
   "version": "3.9.4"
  }
 },
 "nbformat": 4,
 "nbformat_minor": 5
}
