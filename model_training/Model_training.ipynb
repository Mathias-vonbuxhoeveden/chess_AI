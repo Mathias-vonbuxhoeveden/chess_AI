{
 "cells": [
  {
   "cell_type": "code",
   "execution_count": 4,
   "id": "71873227",
   "metadata": {},
   "outputs": [],
   "source": [
    "import numpy as np\n",
    "from keras.models import Sequential\n",
    "from keras.layers import Dense, Conv2D, Flatten\n",
    "from keras.models import load_model \n",
    "import pickle"
   ]
  },
  {
   "cell_type": "code",
   "execution_count": 6,
   "id": "72bef238",
   "metadata": {},
   "outputs": [],
   "source": [
    "#Load the data"
   ]
  },
  {
   "cell_type": "code",
   "execution_count": 37,
   "id": "bf13c262-319c-491a-875c-a8da324c846a",
   "metadata": {},
   "outputs": [],
   "source": [
    "data = np.load(\"data/dataset.npz\")"
   ]
  },
  {
   "cell_type": "code",
   "execution_count": 38,
   "id": "f8c364e0",
   "metadata": {},
   "outputs": [],
   "source": [
    "#Train piece-selector network!"
   ]
  },
  {
   "cell_type": "code",
   "execution_count": 39,
   "id": "0ad0c065",
   "metadata": {},
   "outputs": [],
   "source": [
    "X = data['arr_0']\n",
    "y = data['arr_1']"
   ]
  },
  {
   "cell_type": "code",
   "execution_count": 13,
   "id": "aba67de0",
   "metadata": {},
   "outputs": [],
   "source": [
    "img_rows, img_cols = 8, 8\n",
    "input_shape = (img_rows, img_cols, 6)\n",
    "\n",
    "model = Sequential()\n",
    "model.add(Conv2D(128, kernel_size=(2, 2), activation='relu',input_shape=input_shape))\n",
    "model.add(Conv2D(128, kernel_size=(2,2), activation='relu'))\n",
    "model.add(Flatten())\n",
    "\n",
    "model.add(Dense(1024, activation='relu'))\n",
    "\n",
    "model.add(Dense(1024, activation='relu'))\n",
    "\n",
    "model.add(Dense(64, activation='softmax'))\n",
    "\n",
    "model.compile(loss='categorical_crossentropy',\n",
    "               optimizer='adam',\n",
    "               metrics=['accuracy'])"
   ]
  },
  {
   "cell_type": "code",
   "execution_count": 15,
   "id": "48804b42",
   "metadata": {},
   "outputs": [
    {
     "name": "stdout",
     "output_type": "stream",
     "text": [
      "Epoch 1/3\n",
      "2741/2741 [==============================] - 147s 54ms/step - loss: 1.0545 - accuracy: 0.6174 - val_loss: 1.6908 - val_accuracy: 0.4483\n",
      "Epoch 2/3\n",
      "2741/2741 [==============================] - 144s 53ms/step - loss: 0.8262 - accuracy: 0.6988 - val_loss: 1.9282 - val_accuracy: 0.4427\n",
      "Epoch 3/3\n",
      "2741/2741 [==============================] - 154s 56ms/step - loss: 0.6246 - accuracy: 0.7746 - val_loss: 2.3288 - val_accuracy: 0.4327\n"
     ]
    },
    {
     "data": {
      "text/plain": [
       "<keras.callbacks.History at 0x7fcde1cf36a0>"
      ]
     },
     "execution_count": 15,
     "metadata": {},
     "output_type": "execute_result"
    }
   ],
   "source": [
    "model.fit(X, y, validation_split = 0.2, batch_size=128, epochs=3)"
   ]
  },
  {
   "cell_type": "code",
   "execution_count": 25,
   "id": "77c2bba6",
   "metadata": {},
   "outputs": [
    {
     "name": "stderr",
     "output_type": "stream",
     "text": [
      "2022-07-12 20:55:36.454095: W tensorflow/python/util/util.cc:348] Sets are not currently considered sequences, but this may change in the future, so consider avoiding using them.\n"
     ]
    },
    {
     "name": "stdout",
     "output_type": "stream",
     "text": [
      "INFO:tensorflow:Assets written to: piece_selector_network/assets\n"
     ]
    }
   ],
   "source": [
    "model.save(\"piece_selector_network\")"
   ]
  },
  {
   "cell_type": "code",
   "execution_count": null,
   "id": "b08db4bf",
   "metadata": {},
   "outputs": [],
   "source": [
    "#Train move-to network!"
   ]
  },
  {
   "cell_type": "code",
   "execution_count": 27,
   "id": "75a05fee",
   "metadata": {},
   "outputs": [],
   "source": [
    "X = data['arr_0']\n",
    "y = data['arr_2']"
   ]
  },
  {
   "cell_type": "code",
   "execution_count": 28,
   "id": "c67f1188",
   "metadata": {},
   "outputs": [],
   "source": [
    "img_rows, img_cols = 8, 8\n",
    "input_shape = (img_rows, img_cols, 6)\n",
    "\n",
    "model = Sequential()\n",
    "model.add(Conv2D(128, kernel_size=(2, 2), activation='relu',input_shape=input_shape))\n",
    "model.add(Conv2D(128, kernel_size=(2,2), activation='relu'))\n",
    "model.add(Flatten())\n",
    "\n",
    "model.add(Dense(1024, activation='relu'))\n",
    "\n",
    "model.add(Dense(1024, activation='relu'))\n",
    "\n",
    "model.add(Dense(64, activation='softmax'))\n",
    "\n",
    "model.compile(loss='categorical_crossentropy',\n",
    "               optimizer='adam',\n",
    "               metrics=['accuracy'])"
   ]
  },
  {
   "cell_type": "code",
   "execution_count": 29,
   "id": "1cc9d0c7",
   "metadata": {},
   "outputs": [
    {
     "name": "stdout",
     "output_type": "stream",
     "text": [
      "Epoch 1/3\n",
      "2741/2741 [==============================] - 163s 59ms/step - loss: 2.7504 - accuracy: 0.2707 - val_loss: 2.5052 - val_accuracy: 0.3080\n",
      "Epoch 2/3\n",
      "2741/2741 [==============================] - 163s 59ms/step - loss: 2.2554 - accuracy: 0.3613 - val_loss: 2.4119 - val_accuracy: 0.3253\n",
      "Epoch 3/3\n",
      "2741/2741 [==============================] - 161s 59ms/step - loss: 1.9255 - accuracy: 0.4337 - val_loss: 2.4863 - val_accuracy: 0.3240\n"
     ]
    },
    {
     "data": {
      "text/plain": [
       "<keras.callbacks.History at 0x7fcdc07a2e20>"
      ]
     },
     "execution_count": 29,
     "metadata": {},
     "output_type": "execute_result"
    }
   ],
   "source": [
    "model.fit(X, y, validation_split = 0.2, batch_size=128, epochs=3)"
   ]
  },
  {
   "cell_type": "code",
   "execution_count": 30,
   "id": "d4598ed3",
   "metadata": {},
   "outputs": [
    {
     "name": "stdout",
     "output_type": "stream",
     "text": [
      "INFO:tensorflow:Assets written to: move_to_network/assets\n"
     ]
    }
   ],
   "source": [
    "model.save(\"move_to_network\")"
   ]
  },
  {
   "cell_type": "code",
   "execution_count": 5,
   "id": "fc70b940-aaf3-4a94-984e-a0ef22b77c42",
   "metadata": {},
   "outputs": [],
   "source": [
    "#Save models in smaller format for deployment"
   ]
  },
  {
   "cell_type": "code",
   "execution_count": 6,
   "id": "7d7868cf-8832-4b24-b044-a5b2adf9819f",
   "metadata": {},
   "outputs": [
    {
     "name": "stderr",
     "output_type": "stream",
     "text": [
      "2023-07-14 21:24:17.010639: I tensorflow/core/platform/cpu_feature_guard.cc:193] This TensorFlow binary is optimized with oneAPI Deep Neural Network Library (oneDNN) to use the following CPU instructions in performance-critical operations:  AVX2 FMA\n",
      "To enable them in other operations, rebuild TensorFlow with the appropriate compiler flags.\n",
      "2023-07-14 21:24:17.115062: W tensorflow/core/framework/cpu_allocator_impl.cc:82] Allocation of 18874368 exceeds 10% of free system memory.\n",
      "2023-07-14 21:24:17.162278: W tensorflow/core/framework/cpu_allocator_impl.cc:82] Allocation of 18874368 exceeds 10% of free system memory.\n",
      "2023-07-14 21:24:17.182580: W tensorflow/core/framework/cpu_allocator_impl.cc:82] Allocation of 18874368 exceeds 10% of free system memory.\n",
      "2023-07-14 21:24:17.550994: W tensorflow/core/framework/cpu_allocator_impl.cc:82] Allocation of 18874368 exceeds 10% of free system memory.\n",
      "2023-07-14 21:24:17.582302: W tensorflow/core/framework/cpu_allocator_impl.cc:82] Allocation of 18874368 exceeds 10% of free system memory.\n"
     ]
    }
   ],
   "source": [
    "piece_selector_network = load_model(\"piece_selector_network\")"
   ]
  },
  {
   "cell_type": "code",
   "execution_count": 7,
   "id": "bbe1ef8d-c514-496f-ac92-009e6aec9fb5",
   "metadata": {},
   "outputs": [],
   "source": [
    "piece_selector_network.save(\"piece_selector_network.h5\")"
   ]
  },
  {
   "cell_type": "code",
   "execution_count": 8,
   "id": "09952a53-e3eb-4908-8f78-ccedf651aa2d",
   "metadata": {},
   "outputs": [],
   "source": [
    "move_to_network = load_model(\"move_to_network\")"
   ]
  },
  {
   "cell_type": "code",
   "execution_count": 9,
   "id": "4076bd7b-d487-4a30-863d-eedb07bb16d3",
   "metadata": {},
   "outputs": [],
   "source": [
    "move_to_network.save(\"move_to_network.h5\")"
   ]
  },
  {
   "cell_type": "code",
   "execution_count": null,
   "id": "4a28d477-171e-43bd-a291-9c1545095387",
   "metadata": {},
   "outputs": [],
   "source": []
  },
  {
   "cell_type": "code",
   "execution_count": 12,
   "id": "a4d717ea-51d7-4d26-a7c3-6800a26fc16f",
   "metadata": {},
   "outputs": [],
   "source": [
    "import psutil"
   ]
  },
  {
   "cell_type": "code",
   "execution_count": 13,
   "id": "5eecc28a-d281-4207-ac3a-e966186dcb0d",
   "metadata": {},
   "outputs": [
    {
     "name": "stdout",
     "output_type": "stream",
     "text": [
      "RAM Used (GB): 0.759238656\n"
     ]
    }
   ],
   "source": [
    "print('RAM Used (GB):', psutil.virtual_memory()[3]/1000000000)\n"
   ]
  },
  {
   "cell_type": "code",
   "execution_count": 14,
   "id": "a33e35db-a6a2-4f3f-8b92-23cdcfba3f43",
   "metadata": {},
   "outputs": [],
   "source": [
    "import chess"
   ]
  },
  {
   "cell_type": "code",
   "execution_count": 15,
   "id": "676f168b-1770-4bdd-ba2c-0e3d26c4da01",
   "metadata": {},
   "outputs": [
    {
     "name": "stdout",
     "output_type": "stream",
     "text": [
      "RAM Used (GB): 0.761790464\n"
     ]
    }
   ],
   "source": [
    "print('RAM Used (GB):', psutil.virtual_memory()[3]/1000000000)\n"
   ]
  },
  {
   "cell_type": "code",
   "execution_count": 19,
   "id": "3d4a0723-3a6d-4e5e-8d0a-a5083df727fc",
   "metadata": {},
   "outputs": [],
   "source": [
    "import numpy as np"
   ]
  },
  {
   "cell_type": "code",
   "execution_count": 20,
   "id": "f5b8301d-f1f1-412a-add8-b0124bf6afc0",
   "metadata": {},
   "outputs": [
    {
     "name": "stdout",
     "output_type": "stream",
     "text": [
      "RAM Used (GB): 0.760467456\n"
     ]
    }
   ],
   "source": [
    "print('RAM Used (GB):', psutil.virtual_memory()[3]/1000000000)"
   ]
  },
  {
   "cell_type": "code",
   "execution_count": 21,
   "id": "6a92aac6-6dd0-4929-9ed3-1c40b72ae82c",
   "metadata": {},
   "outputs": [
    {
     "data": {
      "text/plain": [
       "-0.0013230079999999589"
      ]
     },
     "execution_count": 21,
     "metadata": {},
     "output_type": "execute_result"
    }
   ],
   "source": [
    "0.760467456-0.761790464"
   ]
  },
  {
   "cell_type": "code",
   "execution_count": 22,
   "id": "ab66f35b-5446-4469-82c4-0b6c8243a7a5",
   "metadata": {},
   "outputs": [
    {
     "data": {
      "text/plain": [
       "-1.3230079999999589"
      ]
     },
     "execution_count": 22,
     "metadata": {},
     "output_type": "execute_result"
    }
   ],
   "source": [
    "-0.0013230079999999589*1000"
   ]
  },
  {
   "cell_type": "code",
   "execution_count": 23,
   "id": "36e1ba9c-18d4-45f7-b6b7-becc08c55cef",
   "metadata": {},
   "outputs": [],
   "source": [
    "from flask import Flask, send_from_directory, request"
   ]
  },
  {
   "cell_type": "code",
   "execution_count": 24,
   "id": "0a55b2aa-35d6-493a-8241-8a025d57b025",
   "metadata": {},
   "outputs": [
    {
     "name": "stdout",
     "output_type": "stream",
     "text": [
      "RAM Used (GB): 0.767143936\n"
     ]
    }
   ],
   "source": [
    "print('RAM Used (GB):', psutil.virtual_memory()[3]/1000000000)"
   ]
  },
  {
   "cell_type": "code",
   "execution_count": 25,
   "id": "bbadff72-c3a9-4881-8c06-6fadd231262d",
   "metadata": {},
   "outputs": [
    {
     "data": {
      "text/plain": [
       "0.006676479999999985"
      ]
     },
     "execution_count": 25,
     "metadata": {},
     "output_type": "execute_result"
    }
   ],
   "source": [
    "0.767143936-0.760467456"
   ]
  },
  {
   "cell_type": "code",
   "execution_count": 26,
   "id": "f2aa1b29-8ab2-45a6-9869-ca8bc4b379dd",
   "metadata": {},
   "outputs": [
    {
     "data": {
      "text/plain": [
       "6.676479999999985"
      ]
     },
     "execution_count": 26,
     "metadata": {},
     "output_type": "execute_result"
    }
   ],
   "source": [
    "0.006676479999999985*1000"
   ]
  },
  {
   "cell_type": "code",
   "execution_count": 18,
   "id": "626068b6-33c4-41c9-a2cc-c7d4ea453e88",
   "metadata": {},
   "outputs": [
    {
     "data": {
      "text/plain": [
       "2.5518079999999888"
      ]
     },
     "execution_count": 18,
     "metadata": {},
     "output_type": "execute_result"
    }
   ],
   "source": [
    "0.0025518079999999888*1000"
   ]
  },
  {
   "cell_type": "code",
   "execution_count": null,
   "id": "44a52e9e-4df6-4646-9105-4832025d0789",
   "metadata": {},
   "outputs": [],
   "source": []
  },
  {
   "cell_type": "code",
   "execution_count": 10,
   "id": "d1bf3f35-c363-4050-bb1e-f143f90320ec",
   "metadata": {},
   "outputs": [
    {
     "data": {
      "text/plain": [
       "0.1953125"
      ]
     },
     "execution_count": 10,
     "metadata": {},
     "output_type": "execute_result"
    }
   ],
   "source": [
    "100/512"
   ]
  },
  {
   "cell_type": "code",
   "execution_count": null,
   "id": "8ec57325-f6a6-46ef-8de7-b3514d041bb7",
   "metadata": {},
   "outputs": [],
   "source": []
  },
  {
   "cell_type": "code",
   "execution_count": null,
   "id": "a6431809-7a4c-4dbc-b0f0-d4f5358f8af8",
   "metadata": {},
   "outputs": [],
   "source": []
  }
 ],
 "metadata": {
  "kernelspec": {
   "display_name": "Python 3 (ipykernel)",
   "language": "python",
   "name": "python3"
  },
  "language_info": {
   "codemirror_mode": {
    "name": "ipython",
    "version": 3
   },
   "file_extension": ".py",
   "mimetype": "text/x-python",
   "name": "python",
   "nbconvert_exporter": "python",
   "pygments_lexer": "ipython3",
   "version": "3.9.13"
  }
 },
 "nbformat": 4,
 "nbformat_minor": 5
}
