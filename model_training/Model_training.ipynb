{
 "cells": [
  {
   "cell_type": "code",
   "execution_count": 5,
   "id": "71873227",
   "metadata": {},
   "outputs": [],
   "source": [
    "import numpy as np\n",
    "from keras.models import Sequential\n",
    "from keras.layers import Dense, Conv2D, Flatten\n",
    "import pickle"
   ]
  },
  {
   "cell_type": "code",
   "execution_count": 6,
   "id": "72bef238",
   "metadata": {},
   "outputs": [],
   "source": [
    "#Load the data"
   ]
  },
  {
   "cell_type": "code",
   "execution_count": null,
   "id": "bf13c262-319c-491a-875c-a8da324c846a",
   "metadata": {},
   "outputs": [],
   "source": [
    "data = np.load(\"data/dataset.npz\")"
   ]
  },
  {
   "cell_type": "code",
   "execution_count": 11,
   "id": "f8c364e0",
   "metadata": {},
   "outputs": [],
   "source": [
    "#Train piece-selector network!"
   ]
  },
  {
   "cell_type": "code",
   "execution_count": 12,
   "id": "0ad0c065",
   "metadata": {},
   "outputs": [],
   "source": [
    "X = data['arr_0']\n",
    "y = data['arr_1']"
   ]
  },
  {
   "cell_type": "code",
   "execution_count": 13,
   "id": "aba67de0",
   "metadata": {},
   "outputs": [],
   "source": [
    "img_rows, img_cols = 8, 8\n",
    "input_shape = (img_rows, img_cols, 6)\n",
    "\n",
    "model = Sequential()\n",
    "model.add(Conv2D(128, kernel_size=(2, 2), activation='relu',input_shape=input_shape))\n",
    "model.add(Conv2D(128, kernel_size=(2,2), activation='relu'))\n",
    "model.add(Flatten())\n",
    "\n",
    "model.add(Dense(1024, activation='relu'))\n",
    "\n",
    "model.add(Dense(1024, activation='relu'))\n",
    "\n",
    "model.add(Dense(64, activation='softmax'))\n",
    "\n",
    "model.compile(loss='categorical_crossentropy',\n",
    "               optimizer='adam',\n",
    "               metrics=['accuracy'])"
   ]
  },
  {
   "cell_type": "code",
   "execution_count": 15,
   "id": "48804b42",
   "metadata": {},
   "outputs": [
    {
     "name": "stdout",
     "output_type": "stream",
     "text": [
      "Epoch 1/3\n",
      "2741/2741 [==============================] - 147s 54ms/step - loss: 1.0545 - accuracy: 0.6174 - val_loss: 1.6908 - val_accuracy: 0.4483\n",
      "Epoch 2/3\n",
      "2741/2741 [==============================] - 144s 53ms/step - loss: 0.8262 - accuracy: 0.6988 - val_loss: 1.9282 - val_accuracy: 0.4427\n",
      "Epoch 3/3\n",
      "2741/2741 [==============================] - 154s 56ms/step - loss: 0.6246 - accuracy: 0.7746 - val_loss: 2.3288 - val_accuracy: 0.4327\n"
     ]
    },
    {
     "data": {
      "text/plain": [
       "<keras.callbacks.History at 0x7fcde1cf36a0>"
      ]
     },
     "execution_count": 15,
     "metadata": {},
     "output_type": "execute_result"
    }
   ],
   "source": [
    "model.fit(X, y, validation_split = 0.2, batch_size=128, epochs=3)"
   ]
  },
  {
   "cell_type": "code",
   "execution_count": 25,
   "id": "77c2bba6",
   "metadata": {},
   "outputs": [
    {
     "name": "stderr",
     "output_type": "stream",
     "text": [
      "2022-07-12 20:55:36.454095: W tensorflow/python/util/util.cc:348] Sets are not currently considered sequences, but this may change in the future, so consider avoiding using them.\n"
     ]
    },
    {
     "name": "stdout",
     "output_type": "stream",
     "text": [
      "INFO:tensorflow:Assets written to: piece_selector_network/assets\n"
     ]
    }
   ],
   "source": [
    "model.save(\"piece_selector_network\")"
   ]
  },
  {
   "cell_type": "code",
   "execution_count": null,
   "id": "b08db4bf",
   "metadata": {},
   "outputs": [],
   "source": [
    "#Train move-to network!"
   ]
  },
  {
   "cell_type": "code",
   "execution_count": 27,
   "id": "75a05fee",
   "metadata": {},
   "outputs": [],
   "source": [
    "X = data['arr_0']\n",
    "y = data['arr_2']"
   ]
  },
  {
   "cell_type": "code",
   "execution_count": 28,
   "id": "c67f1188",
   "metadata": {},
   "outputs": [],
   "source": [
    "img_rows, img_cols = 8, 8\n",
    "input_shape = (img_rows, img_cols, 6)\n",
    "\n",
    "model = Sequential()\n",
    "model.add(Conv2D(128, kernel_size=(2, 2), activation='relu',input_shape=input_shape))\n",
    "model.add(Conv2D(128, kernel_size=(2,2), activation='relu'))\n",
    "model.add(Flatten())\n",
    "\n",
    "model.add(Dense(1024, activation='relu'))\n",
    "\n",
    "model.add(Dense(1024, activation='relu'))\n",
    "\n",
    "model.add(Dense(64, activation='softmax'))\n",
    "\n",
    "model.compile(loss='categorical_crossentropy',\n",
    "               optimizer='adam',\n",
    "               metrics=['accuracy'])"
   ]
  },
  {
   "cell_type": "code",
   "execution_count": 29,
   "id": "1cc9d0c7",
   "metadata": {},
   "outputs": [
    {
     "name": "stdout",
     "output_type": "stream",
     "text": [
      "Epoch 1/3\n",
      "2741/2741 [==============================] - 163s 59ms/step - loss: 2.7504 - accuracy: 0.2707 - val_loss: 2.5052 - val_accuracy: 0.3080\n",
      "Epoch 2/3\n",
      "2741/2741 [==============================] - 163s 59ms/step - loss: 2.2554 - accuracy: 0.3613 - val_loss: 2.4119 - val_accuracy: 0.3253\n",
      "Epoch 3/3\n",
      "2741/2741 [==============================] - 161s 59ms/step - loss: 1.9255 - accuracy: 0.4337 - val_loss: 2.4863 - val_accuracy: 0.3240\n"
     ]
    },
    {
     "data": {
      "text/plain": [
       "<keras.callbacks.History at 0x7fcdc07a2e20>"
      ]
     },
     "execution_count": 29,
     "metadata": {},
     "output_type": "execute_result"
    }
   ],
   "source": [
    "model.fit(X, y, validation_split = 0.2, batch_size=128, epochs=3)"
   ]
  },
  {
   "cell_type": "code",
   "execution_count": 30,
   "id": "d4598ed3",
   "metadata": {},
   "outputs": [
    {
     "name": "stdout",
     "output_type": "stream",
     "text": [
      "INFO:tensorflow:Assets written to: move_to_network/assets\n"
     ]
    }
   ],
   "source": [
    "model.save(\"move_to_network\")"
   ]
  },
  {
   "cell_type": "code",
   "execution_count": null,
   "id": "fc70b940-aaf3-4a94-984e-a0ef22b77c42",
   "metadata": {},
   "outputs": [],
   "source": [
    "#Experiments"
   ]
  },
  {
   "cell_type": "code",
   "execution_count": 25,
   "id": "840d68b8-7bba-4c7c-9e18-53234fdc8b1f",
   "metadata": {},
   "outputs": [],
   "source": [
    "move_to_network = load_model(\"move_to_network\")"
   ]
  },
  {
   "cell_type": "code",
   "execution_count": 26,
   "id": "625b59e2-573e-494c-aac1-0486bb14a99f",
   "metadata": {},
   "outputs": [
    {
     "name": "stdout",
     "output_type": "stream",
     "text": [
      "Saved model to disk\n"
     ]
    }
   ],
   "source": [
    "move_to_network.save(\"move_to_network.h5\")\n",
    "print(\"Saved model to disk\")"
   ]
  },
  {
   "cell_type": "code",
   "execution_count": 27,
   "id": "daa58f85-9bb0-4e52-818a-9a8e71bf8bab",
   "metadata": {},
   "outputs": [],
   "source": [
    "piece_selector_network = load_model(\"piece_selector_network\")"
   ]
  },
  {
   "cell_type": "code",
   "execution_count": 28,
   "id": "48222829-0637-4ffe-8b3b-681152456772",
   "metadata": {},
   "outputs": [
    {
     "name": "stdout",
     "output_type": "stream",
     "text": [
      "Saved model to disk\n"
     ]
    }
   ],
   "source": [
    "move_to_network.save(\"piece_selector_network.h5\")\n",
    "print(\"Saved model to disk\")"
   ]
  },
  {
   "cell_type": "code",
   "execution_count": 29,
   "id": "0d98d715-ecd7-4c16-ae64-33640dd3e907",
   "metadata": {},
   "outputs": [
    {
     "name": "stdout",
     "output_type": "stream",
     "text": [
      "RAM Used (GB): 0.85364736\n"
     ]
    }
   ],
   "source": [
    "print('RAM Used (GB):', psutil.virtual_memory()[3]/1000000000)"
   ]
  },
  {
   "cell_type": "code",
   "execution_count": 30,
   "id": "b9061d8a-3091-4421-8e13-3dcb1016ea82",
   "metadata": {},
   "outputs": [],
   "source": [
    "x = load_model('piece_selector_network.h5')"
   ]
  },
  {
   "cell_type": "code",
   "execution_count": 31,
   "id": "55b34db5-4931-412a-8760-7d56ce382d08",
   "metadata": {},
   "outputs": [
    {
     "name": "stdout",
     "output_type": "stream",
     "text": [
      "RAM Used (GB): 0.832557056\n"
     ]
    }
   ],
   "source": [
    "print('RAM Used (GB):', psutil.virtual_memory()[3]/1000000000)"
   ]
  },
  {
   "cell_type": "code",
   "execution_count": 32,
   "id": "bbde79ec-f172-4ff9-91b7-1c863fc3e039",
   "metadata": {},
   "outputs": [
    {
     "data": {
      "text/plain": [
       "0.021090304000000004"
      ]
     },
     "execution_count": 32,
     "metadata": {},
     "output_type": "execute_result"
    }
   ],
   "source": [
    "0.85364736-0.832557056"
   ]
  },
  {
   "cell_type": "code",
   "execution_count": 34,
   "id": "62ae0a72-308f-4e74-bd09-94a09d1fa25c",
   "metadata": {},
   "outputs": [
    {
     "data": {
      "text/plain": [
       "21.090304000000003"
      ]
     },
     "execution_count": 34,
     "metadata": {},
     "output_type": "execute_result"
    }
   ],
   "source": [
    "0.021090304000000004*1000"
   ]
  },
  {
   "cell_type": "code",
   "execution_count": 35,
   "id": "52681f00-8f5d-4d80-bea3-218530746af6",
   "metadata": {},
   "outputs": [
    {
     "data": {
      "text/plain": [
       "160"
      ]
     },
     "execution_count": 35,
     "metadata": {},
     "output_type": "execute_result"
    }
   ],
   "source": [
    "200-40"
   ]
  },
  {
   "cell_type": "code",
   "execution_count": null,
   "id": "5731ebcd-3d96-4519-95b5-1d12d5669be1",
   "metadata": {},
   "outputs": [],
   "source": []
  },
  {
   "cell_type": "code",
   "execution_count": 17,
   "id": "14a68320-703d-4ab5-a939-23c4b1ba38cb",
   "metadata": {},
   "outputs": [
    {
     "name": "stdout",
     "output_type": "stream",
     "text": [
      "RAM Used (GB): 0.797564928\n"
     ]
    }
   ],
   "source": [
    "print('RAM Used (GB):', psutil.virtual_memory()[3]/1000000000)"
   ]
  },
  {
   "cell_type": "code",
   "execution_count": 21,
   "id": "aa7ff8ac-154f-49b1-a7d0-935d009531b1",
   "metadata": {},
   "outputs": [],
   "source": [
    "class predict_pro_move:\n",
    "    \n",
    "    \"\"\"\n",
    "    Class for predicting professional chess-player move\n",
    "    \"\"\"\n",
    "\n",
    "    def __init__(self):\n",
    "        pass\n",
    "        #self.move_to_network = load_model(\"move_to_network\")\n",
    "        #self.piece_selector_network = load_model(\"piece_selector_network\")\n",
    "\n",
    "    def encode_board_data(self, board):\n",
    "\n",
    "        \"\"\"\n",
    "        Function takes a board as input and returns an 8x8x6 array encoding of the board-position.\n",
    "        \"\"\"\n",
    "        rock_positions = np.zeros(64)\n",
    "        knight_positions = np.zeros(64)\n",
    "        bishop_positions = np.zeros(64)\n",
    "        queen_positions = np.zeros(64)\n",
    "        king_positions = np.zeros(64)\n",
    "        pawn_positions = np.zeros(64)\n",
    "        for i in range(64):\n",
    "\n",
    "            try:\n",
    "\n",
    "                if board.piece_at(i).symbol() == 'R':\n",
    "                    rock_positions[i] = 1\n",
    "                elif board.piece_at(i).symbol() == 'r':\n",
    "                    rock_positions[i] = -1\n",
    "                elif board.piece_at(i).symbol() == 'N':\n",
    "                    knight_positions[i] = 1\n",
    "                elif board.piece_at(i).symbol() == 'n':\n",
    "                    knight_positions[i] = -1\n",
    "                elif board.piece_at(i).symbol() == 'B':\n",
    "                    bishop_positions[i] = 1\n",
    "                elif board.piece_at(i).symbol() == 'b':\n",
    "                    bishop_positions[i] = -1\n",
    "                elif board.piece_at(i).symbol() == 'Q':\n",
    "                    queen_positions[i] = 1\n",
    "                elif board.piece_at(i).symbol() == 'q':\n",
    "                    queen_positions[i] = -1\n",
    "                elif board.piece_at(i).symbol() == 'K':\n",
    "                    king_positions[i] = 1\n",
    "                elif board.piece_at(i).symbol() == 'k':\n",
    "                    king_positions[i] = -1\n",
    "                elif board.piece_at(i).symbol() == 'P':\n",
    "                    pawn_positions[i] = 1\n",
    "                elif board.piece_at(i).symbol() == 'p':\n",
    "                    pawn_positions[i] = -1\n",
    "            except:\n",
    "\n",
    "                pass\n",
    "\n",
    "        rock_positions = rock_positions.reshape(8,8)\n",
    "        knight_positions = knight_positions.reshape(8,8)\n",
    "        bishop_positions = bishop_positions.reshape(8,8)\n",
    "        queen_positions = queen_positions.reshape(8,8)\n",
    "        king_positions = king_positions.reshape(8,8)\n",
    "        pawn_positions = pawn_positions.reshape(8,8)\n",
    "\n",
    "        X = np.dstack([rock_positions,knight_positions,bishop_positions,queen_positions,king_positions,pawn_positions])\n",
    "        X = X.reshape(1,8,8,6)\n",
    "        return X\n",
    "\n",
    "\n",
    "    def predict(self, board):\n",
    "        if board.turn == True:\n",
    "            board_input = board.copy()\n",
    "        else:\n",
    "            board_input = board.mirror()\n",
    "        X = self.encode_board_data(board_input)\n",
    "        piece_selector_prob = list(np.squeeze(self.piece_selector_network.predict(X)))\n",
    "        move_to_probs = list(np.squeeze(self.move_to_network.predict(X)))\n",
    "        legal_moves = list(board_input.legal_moves)\n",
    "        from_square = legal_moves[0].from_square\n",
    "\n",
    "        for move in legal_moves:\n",
    "            if piece_selector_prob[move.from_square] > piece_selector_prob[from_square]:\n",
    "                from_square = move.from_square\n",
    "\n",
    "        legal_to_moves = []\n",
    "        for move in legal_moves:\n",
    "            if move.from_square == from_square:\n",
    "                legal_to_moves.append(move.to_square)\n",
    "\n",
    "        to_square = legal_to_moves[0]\n",
    "        for move in legal_to_moves:\n",
    "            if move_to_probs[move] > move_to_probs[to_square]:\n",
    "                to_square = move\n",
    "\n",
    "        if board.turn == True:\n",
    "            return from_square, to_square\n",
    "        else:\n",
    "            return chess.square_mirror(from_square), chess.square_mirror(to_square)"
   ]
  },
  {
   "cell_type": "code",
   "execution_count": 22,
   "id": "fb7e0bbb-102c-493a-9bbc-50d6294a5163",
   "metadata": {},
   "outputs": [
    {
     "name": "stdout",
     "output_type": "stream",
     "text": [
      "RAM Used (GB): 0.795172864\n"
     ]
    }
   ],
   "source": [
    "print('RAM Used (GB):', psutil.virtual_memory()[3]/1000000000)"
   ]
  },
  {
   "cell_type": "code",
   "execution_count": 23,
   "id": "09639f66-8c33-4359-af59-82f7624463eb",
   "metadata": {},
   "outputs": [
    {
     "data": {
      "text/plain": [
       "0.002392064000000027"
      ]
     },
     "execution_count": 23,
     "metadata": {},
     "output_type": "execute_result"
    }
   ],
   "source": [
    "0.797564928 - 0.795172864"
   ]
  },
  {
   "cell_type": "code",
   "execution_count": 24,
   "id": "b5a0bd83-c2fe-4222-a443-c14019a84336",
   "metadata": {},
   "outputs": [
    {
     "data": {
      "text/plain": [
       "2.392064000000027"
      ]
     },
     "execution_count": 24,
     "metadata": {},
     "output_type": "execute_result"
    }
   ],
   "source": [
    "0.002392064000000027*1000"
   ]
  },
  {
   "cell_type": "code",
   "execution_count": 19,
   "id": "8c1188b7-8633-4561-bb13-18cb5a545a27",
   "metadata": {},
   "outputs": [
    {
     "name": "stdout",
     "output_type": "stream",
     "text": [
      "RAM Used (GB): 0.8044544\n"
     ]
    }
   ],
   "source": [
    "print('RAM Used (GB):', psutil.virtual_memory()[3]/1000000000)"
   ]
  },
  {
   "cell_type": "code",
   "execution_count": null,
   "id": "3bc6729b-a52a-4947-8ac6-6ad37565407c",
   "metadata": {},
   "outputs": [],
   "source": []
  },
  {
   "cell_type": "code",
   "execution_count": 10,
   "id": "74bc2702-86ef-421c-b61a-0281aac7ac8e",
   "metadata": {},
   "outputs": [
    {
     "data": {
      "text/plain": [
       "0.3280363519999999"
      ]
     },
     "execution_count": 10,
     "metadata": {},
     "output_type": "execute_result"
    }
   ],
   "source": [
    "0.783486976-0.455450624"
   ]
  },
  {
   "cell_type": "code",
   "execution_count": 13,
   "id": "03bd4673-b915-458e-b104-633e4b799e32",
   "metadata": {},
   "outputs": [],
   "source": [
    "import sys"
   ]
  },
  {
   "cell_type": "code",
   "execution_count": 14,
   "id": "179eede6-b7a1-42a3-bf87-384df459d3a4",
   "metadata": {},
   "outputs": [
    {
     "data": {
      "text/plain": [
       "48"
      ]
     },
     "execution_count": 14,
     "metadata": {},
     "output_type": "execute_result"
    }
   ],
   "source": [
    "sys.getsizeof(piece_selector_network)"
   ]
  },
  {
   "cell_type": "code",
   "execution_count": null,
   "id": "10b49328-6f27-445e-9a75-389381140291",
   "metadata": {},
   "outputs": [],
   "source": []
  },
  {
   "cell_type": "code",
   "execution_count": 14,
   "id": "1f4688a8-2a89-49e7-8ebd-b7aa08613262",
   "metadata": {},
   "outputs": [],
   "source": [
    "import psutil"
   ]
  },
  {
   "cell_type": "code",
   "execution_count": 15,
   "id": "c3a25851-d97e-4af1-be30-8c23c01624dc",
   "metadata": {},
   "outputs": [
    {
     "name": "stdout",
     "output_type": "stream",
     "text": [
      "RAM memory % used: 95.1\n"
     ]
    }
   ],
   "source": [
    "print('RAM memory % used:', psutil.virtual_memory()[2])"
   ]
  },
  {
   "cell_type": "code",
   "execution_count": null,
   "id": "b5e886bc-e559-40d1-a095-694eee54698d",
   "metadata": {},
   "outputs": [],
   "source": []
  },
  {
   "cell_type": "code",
   "execution_count": 8,
   "id": "602c98b8-8cc0-4807-b068-8510b71c71eb",
   "metadata": {},
   "outputs": [
    {
     "data": {
      "text/plain": [
       "48"
      ]
     },
     "execution_count": 8,
     "metadata": {},
     "output_type": "execute_result"
    }
   ],
   "source": [
    "sys.getsizeof(move_to_network)"
   ]
  },
  {
   "cell_type": "code",
   "execution_count": 9,
   "id": "c9683d03-8da5-49f5-ba88-073728185c7c",
   "metadata": {},
   "outputs": [
    {
     "name": "stdout",
     "output_type": "stream",
     "text": [
      "Help on built-in function getsizeof in module sys:\n",
      "\n",
      "getsizeof(...)\n",
      "    getsizeof(object [, default]) -> int\n",
      "    \n",
      "    Return the size of object in bytes.\n",
      "\n"
     ]
    }
   ],
   "source": [
    "help(sys.getsizeof)"
   ]
  },
  {
   "cell_type": "code",
   "execution_count": 10,
   "id": "f28d53e8-e438-4a1b-9a0a-efadc3ede678",
   "metadata": {},
   "outputs": [
    {
     "ename": "SyntaxError",
     "evalue": "invalid character '×' (U+00D7) (2366128090.py, line 1)",
     "output_type": "error",
     "traceback": [
      "\u001b[0;36m  Cell \u001b[0;32mIn[10], line 1\u001b[0;36m\u001b[0m\n\u001b[0;31m    1.0 × 10-6\u001b[0m\n\u001b[0m        ^\u001b[0m\n\u001b[0;31mSyntaxError\u001b[0m\u001b[0;31m:\u001b[0m invalid character '×' (U+00D7)\n"
     ]
    }
   ],
   "source": [
    "1.0*106"
   ]
  },
  {
   "cell_type": "code",
   "execution_count": null,
   "id": "c402b2b7-019d-4100-ab0b-a141c9f4c8ae",
   "metadata": {},
   "outputs": [],
   "source": []
  },
  {
   "cell_type": "code",
   "execution_count": null,
   "id": "32431525-6e79-4432-a39e-8cfe124b61ff",
   "metadata": {},
   "outputs": [],
   "source": []
  },
  {
   "cell_type": "code",
   "execution_count": null,
   "id": "1cacab4a-0053-4168-bfaa-87fb60c0b39e",
   "metadata": {},
   "outputs": [],
   "source": []
  },
  {
   "cell_type": "code",
   "execution_count": null,
   "id": "0f4e6325-1c64-42c2-901f-1b16a80f48f3",
   "metadata": {},
   "outputs": [],
   "source": []
  },
  {
   "cell_type": "code",
   "execution_count": null,
   "id": "f2d0e22d-c7c1-41e6-9a15-6236c2cb7038",
   "metadata": {},
   "outputs": [],
   "source": []
  },
  {
   "cell_type": "code",
   "execution_count": null,
   "id": "1ea40207-00ab-4e85-a4ac-bd991587236d",
   "metadata": {},
   "outputs": [],
   "source": []
  },
  {
   "cell_type": "code",
   "execution_count": null,
   "id": "1ca9161e-41bf-47d9-9514-55aba7fcb625",
   "metadata": {},
   "outputs": [],
   "source": []
  },
  {
   "cell_type": "code",
   "execution_count": null,
   "id": "a9583c1c-a13d-4f22-abc5-7c0680065dce",
   "metadata": {},
   "outputs": [],
   "source": []
  },
  {
   "cell_type": "code",
   "execution_count": null,
   "id": "fe3a9711-7856-4f0c-a676-4b51918d6d8a",
   "metadata": {},
   "outputs": [],
   "source": []
  },
  {
   "cell_type": "code",
   "execution_count": null,
   "id": "e4c19557-9a57-40ce-bcfa-3a30b61b0c18",
   "metadata": {},
   "outputs": [],
   "source": []
  }
 ],
 "metadata": {
  "kernelspec": {
   "display_name": "Python 3 (ipykernel)",
   "language": "python",
   "name": "python3"
  },
  "language_info": {
   "codemirror_mode": {
    "name": "ipython",
    "version": 3
   },
   "file_extension": ".py",
   "mimetype": "text/x-python",
   "name": "python",
   "nbconvert_exporter": "python",
   "pygments_lexer": "ipython3",
   "version": "3.9.13"
  }
 },
 "nbformat": 4,
 "nbformat_minor": 5
}
